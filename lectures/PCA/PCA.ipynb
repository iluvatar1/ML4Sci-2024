{
 "cells": [
  {
   "cell_type": "markdown",
   "id": "6bdb43a8-bbf2-4f7d-9ad4-c42fdd92de00",
   "metadata": {},
   "source": [
    "Before you turn this problem in, make sure everything runs as expected. First, **restart the kernel** (in the menubar, select Kernel$\\rightarrow$Restart) and then **run all cells** (in the menubar, select Cell$\\rightarrow$Run All).\n",
    "\n",
    "Make sure you fill in any place that says `YOUR CODE HERE` or \"YOUR ANSWER HERE\", as well as your name and collaborators below:"
   ]
  },
  {
   "cell_type": "code",
   "execution_count": null,
   "id": "cba1c46c-bbc6-446d-b610-8095fc85ffb0",
   "metadata": {},
   "outputs": [],
   "source": [
    "NAME = \"\"\n",
    "COLLABORATORS = \"NONE\""
   ]
  },
  {
   "cell_type": "markdown",
   "metadata": {
    "id": "itDWfp6bkZUr"
   },
   "source": [
    "# Principal Component Analysis (PCA)"
   ]
  },
  {
   "cell_type": "code",
   "execution_count": null,
   "metadata": {
    "id": "DO2gGbzThwJh"
   },
   "outputs": [],
   "source": [
    "import numpy as np\n",
    "import matplotlib.pylab as plt"
   ]
  },
  {
   "cell_type": "markdown",
   "metadata": {
    "id": "xIwRvp5lkldM"
   },
   "source": [
    "#### Descargar los datos"
   ]
  },
  {
   "cell_type": "code",
   "execution_count": null,
   "metadata": {
    "id": "P-ESoV5Zhrfe"
   },
   "outputs": [],
   "source": [
    "datos=np.genfromtxt(\"WDBC.dat\",  delimiter=\",\")\n",
    "#print(datos[0:4,:])"
   ]
  },
  {
   "cell_type": "code",
   "execution_count": null,
   "metadata": {
    "id": "RvqTyCLWmzmY"
   },
   "outputs": [],
   "source": [
    "promedio=np.mean(datos[:,1])\n",
    "for i in range (np.shape(datos)[1]):\n",
    "    datos[:,i]=(datos[:,i]-np.mean(datos[:,i]))/np.std(datos[:,i])\n"
   ]
  },
  {
   "cell_type": "code",
   "execution_count": null,
   "metadata": {
    "id": "YhfNcA0WnIHS"
   },
   "outputs": [],
   "source": [
    "covmat=np.cov(datos[:,1:].T)\n"
   ]
  },
  {
   "cell_type": "code",
   "execution_count": null,
   "metadata": {
    "id": "fUgeoNf7rDGx"
   },
   "outputs": [],
   "source": [
    "valores, vectores= np.linalg.eig(covmat)\n",
    "valores=valores/np.sum(valores)\n",
    "#print(valores)"
   ]
  },
  {
   "cell_type": "code",
   "execution_count": null,
   "metadata": {
    "colab": {
     "base_uri": "https://localhost:8080/",
     "height": 447
    },
    "id": "fzOa5y5qrIIM",
    "outputId": "d2ef4d63-d0c6-4ecb-cfc6-80b76875b736"
   },
   "outputs": [],
   "source": [
    "plt.figure()\n",
    "plt.scatter(np.arange(len(valores)),valores)\n",
    "plt.plot(np.arange(len(valores)),valores)"
   ]
  },
  {
   "cell_type": "code",
   "execution_count": null,
   "metadata": {
    "colab": {
     "base_uri": "https://localhost:8080/"
    },
    "id": "RpbQef9XrV30",
    "outputId": "1f1fb4cc-f1ec-4da4-d4c2-8eb3910f0751"
   },
   "outputs": [],
   "source": [
    "per_var=(valores[0]+valores[1]+valores[2])\n",
    "print(per_var)"
   ]
  },
  {
   "cell_type": "code",
   "execution_count": null,
   "metadata": {
    "colab": {
     "base_uri": "https://localhost:8080/"
    },
    "id": "i5-uiZYqs2g2",
    "outputId": "e9d158e6-d5fa-4ca8-e15b-0cddd5f21b6c"
   },
   "outputs": [],
   "source": [
    "print( \"autovectores 1: \",vectores[:,0])\n",
    "print( \"autovectores 2: \",vectores[:,1])\n",
    "datosPC = np.dot(datos[:,1:], vectores)\n"
   ]
  },
  {
   "cell_type": "code",
   "execution_count": null,
   "metadata": {
    "colab": {
     "base_uri": "https://localhost:8080/",
     "height": 430
    },
    "id": "3EEEautXsCym",
    "outputId": "685dc5e7-b2fa-4dc0-c225-65200e3e0e6d"
   },
   "outputs": [],
   "source": [
    "plt.figure()\n",
    "for i in range(1,np.shape(datos)[0]):\n",
    "    if (datos[i,1]>promedio):\n",
    "        plt.scatter(datosPC[i,0],datosPC[i,1], c=\"b\", alpha=0.2)\n",
    "    if (datos[i,1]<promedio):\n",
    "        plt.scatter(datosPC[i,0],datosPC[i,1], c=\"r\", alpha=0.2)\n"
   ]
  },
  {
   "cell_type": "code",
   "execution_count": null,
   "metadata": {
    "id": "FMhtNSFCsxsD"
   },
   "outputs": [],
   "source": []
  }
 ],
 "metadata": {
  "colab": {
   "provenance": []
  },
  "kernelspec": {
   "display_name": "Python 3",
   "name": "python3"
  },
  "language_info": {
   "name": "python"
  }
 },
 "nbformat": 4,
 "nbformat_minor": 0
}
